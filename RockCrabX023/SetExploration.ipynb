{
 "cells": [
  {
   "cell_type": "code",
   "execution_count": 79,
   "id": "initial_id",
   "metadata": {
    "collapsed": true,
    "ExecuteTime": {
     "end_time": "2023-12-13T19:55:31.896578100Z",
     "start_time": "2023-12-13T19:55:27.263274600Z"
    }
   },
   "outputs": [],
   "source": [
    "import math\n",
    "\n",
    "import matplotlib.pyplot as plt\n",
    "import pandas as pd\n",
    "import numpy as np\n",
    "import seaborn as sns\n",
    "\n",
    "sets = pd.read_csv(\"X023_set_export.csv\")"
   ]
  },
  {
   "cell_type": "code",
   "execution_count": 53,
   "outputs": [
    {
     "data": {
      "text/plain": "     set_number               start_date                 end_date   \n0             1  2023-06-20 14:48:42 UTC  2023-06-21 09:23:20 UTC  \\\n1             2  2023-06-20 14:55:00 UTC  2023-06-21 09:41:42 UTC   \n2             3  2023-06-20 15:00:54 UTC  2023-06-21 09:51:54 UTC   \n3             4  2023-06-20 15:08:17 UTC  2023-06-21 10:00:29 UTC   \n4             5  2023-06-20 15:14:13 UTC  2023-06-21 10:11:03 UTC   \n..          ...                      ...                      ...   \n839         840  2023-08-03 18:42:21 UTC  2023-08-04 16:22:02 UTC   \n840         841  2023-08-03 18:59:04 UTC  2023-08-04 16:38:45 UTC   \n841         842  2023-08-03 19:09:51 UTC  2023-08-04 16:46:45 UTC   \n842         843  2023-08-03 19:18:56 UTC  2023-08-04 16:57:09 UTC   \n843         844  2023-08-03 19:28:18 UTC  2023-08-04 17:06:51 UTC   \n\n     start_latitude_DD  start_latitude_MMmm  start_longitude_DD   \n0                   46                  NaN                 -64  \\\n1                   46                  NaN                 -64   \n2                   46             49.39991                 -64   \n3                   46                  NaN                 -64   \n4                   46             46.83280                 -64   \n..                 ...                  ...                 ...   \n839                 47             59.21911                 -65   \n840                 48              0.53102                 -65   \n841                 47             59.23924                 -65   \n842                 47             58.07966                 -65   \n843                 47             56.87073                 -65   \n\n     start_longitude_MMmm  end_latitude_DD  end_latitude_MMmm   \n0                     NaN             46.0                NaN  \\\n1                     NaN             46.0                NaN   \n2                18.45374             46.0           49.40960   \n3                     NaN             46.0                NaN   \n4                22.06068             46.0           46.85389   \n..                    ...              ...                ...   \n839              50.98791             47.0           59.23297   \n840              49.33855             48.0            0.46655   \n841              47.22926             47.0           59.25718   \n842              45.20516             47.0           58.09371   \n843              43.43449             47.0           56.91465   \n\n     end_longitude_DD  end_longitude_MMmm                      set_result  \n0               -64.0                 NaN  1 - NORMAL - No damage to gear  \n1               -64.0                 NaN  1 - NORMAL - No damage to gear  \n2               -64.0            18.40501  1 - NORMAL - No damage to gear  \n3               -64.0                 NaN  1 - NORMAL - No damage to gear  \n4               -64.0            22.02738  1 - NORMAL - No damage to gear  \n..                ...                 ...                             ...  \n839             -65.0            50.94415                             NaN  \n840             -65.0            49.25358                             NaN  \n841             -65.0            47.18752                             NaN  \n842             -65.0            45.15963  1 - NORMAL - No damage to gear  \n843             -65.0            43.43743  1 - NORMAL - No damage to gear  \n\n[844 rows x 12 columns]",
      "text/html": "<div>\n<style scoped>\n    .dataframe tbody tr th:only-of-type {\n        vertical-align: middle;\n    }\n\n    .dataframe tbody tr th {\n        vertical-align: top;\n    }\n\n    .dataframe thead th {\n        text-align: right;\n    }\n</style>\n<table border=\"1\" class=\"dataframe\">\n  <thead>\n    <tr style=\"text-align: right;\">\n      <th></th>\n      <th>set_number</th>\n      <th>start_date</th>\n      <th>end_date</th>\n      <th>start_latitude_DD</th>\n      <th>start_latitude_MMmm</th>\n      <th>start_longitude_DD</th>\n      <th>start_longitude_MMmm</th>\n      <th>end_latitude_DD</th>\n      <th>end_latitude_MMmm</th>\n      <th>end_longitude_DD</th>\n      <th>end_longitude_MMmm</th>\n      <th>set_result</th>\n    </tr>\n  </thead>\n  <tbody>\n    <tr>\n      <th>0</th>\n      <td>1</td>\n      <td>2023-06-20 14:48:42 UTC</td>\n      <td>2023-06-21 09:23:20 UTC</td>\n      <td>46</td>\n      <td>NaN</td>\n      <td>-64</td>\n      <td>NaN</td>\n      <td>46.0</td>\n      <td>NaN</td>\n      <td>-64.0</td>\n      <td>NaN</td>\n      <td>1 - NORMAL - No damage to gear</td>\n    </tr>\n    <tr>\n      <th>1</th>\n      <td>2</td>\n      <td>2023-06-20 14:55:00 UTC</td>\n      <td>2023-06-21 09:41:42 UTC</td>\n      <td>46</td>\n      <td>NaN</td>\n      <td>-64</td>\n      <td>NaN</td>\n      <td>46.0</td>\n      <td>NaN</td>\n      <td>-64.0</td>\n      <td>NaN</td>\n      <td>1 - NORMAL - No damage to gear</td>\n    </tr>\n    <tr>\n      <th>2</th>\n      <td>3</td>\n      <td>2023-06-20 15:00:54 UTC</td>\n      <td>2023-06-21 09:51:54 UTC</td>\n      <td>46</td>\n      <td>49.39991</td>\n      <td>-64</td>\n      <td>18.45374</td>\n      <td>46.0</td>\n      <td>49.40960</td>\n      <td>-64.0</td>\n      <td>18.40501</td>\n      <td>1 - NORMAL - No damage to gear</td>\n    </tr>\n    <tr>\n      <th>3</th>\n      <td>4</td>\n      <td>2023-06-20 15:08:17 UTC</td>\n      <td>2023-06-21 10:00:29 UTC</td>\n      <td>46</td>\n      <td>NaN</td>\n      <td>-64</td>\n      <td>NaN</td>\n      <td>46.0</td>\n      <td>NaN</td>\n      <td>-64.0</td>\n      <td>NaN</td>\n      <td>1 - NORMAL - No damage to gear</td>\n    </tr>\n    <tr>\n      <th>4</th>\n      <td>5</td>\n      <td>2023-06-20 15:14:13 UTC</td>\n      <td>2023-06-21 10:11:03 UTC</td>\n      <td>46</td>\n      <td>46.83280</td>\n      <td>-64</td>\n      <td>22.06068</td>\n      <td>46.0</td>\n      <td>46.85389</td>\n      <td>-64.0</td>\n      <td>22.02738</td>\n      <td>1 - NORMAL - No damage to gear</td>\n    </tr>\n    <tr>\n      <th>...</th>\n      <td>...</td>\n      <td>...</td>\n      <td>...</td>\n      <td>...</td>\n      <td>...</td>\n      <td>...</td>\n      <td>...</td>\n      <td>...</td>\n      <td>...</td>\n      <td>...</td>\n      <td>...</td>\n      <td>...</td>\n    </tr>\n    <tr>\n      <th>839</th>\n      <td>840</td>\n      <td>2023-08-03 18:42:21 UTC</td>\n      <td>2023-08-04 16:22:02 UTC</td>\n      <td>47</td>\n      <td>59.21911</td>\n      <td>-65</td>\n      <td>50.98791</td>\n      <td>47.0</td>\n      <td>59.23297</td>\n      <td>-65.0</td>\n      <td>50.94415</td>\n      <td>NaN</td>\n    </tr>\n    <tr>\n      <th>840</th>\n      <td>841</td>\n      <td>2023-08-03 18:59:04 UTC</td>\n      <td>2023-08-04 16:38:45 UTC</td>\n      <td>48</td>\n      <td>0.53102</td>\n      <td>-65</td>\n      <td>49.33855</td>\n      <td>48.0</td>\n      <td>0.46655</td>\n      <td>-65.0</td>\n      <td>49.25358</td>\n      <td>NaN</td>\n    </tr>\n    <tr>\n      <th>841</th>\n      <td>842</td>\n      <td>2023-08-03 19:09:51 UTC</td>\n      <td>2023-08-04 16:46:45 UTC</td>\n      <td>47</td>\n      <td>59.23924</td>\n      <td>-65</td>\n      <td>47.22926</td>\n      <td>47.0</td>\n      <td>59.25718</td>\n      <td>-65.0</td>\n      <td>47.18752</td>\n      <td>NaN</td>\n    </tr>\n    <tr>\n      <th>842</th>\n      <td>843</td>\n      <td>2023-08-03 19:18:56 UTC</td>\n      <td>2023-08-04 16:57:09 UTC</td>\n      <td>47</td>\n      <td>58.07966</td>\n      <td>-65</td>\n      <td>45.20516</td>\n      <td>47.0</td>\n      <td>58.09371</td>\n      <td>-65.0</td>\n      <td>45.15963</td>\n      <td>1 - NORMAL - No damage to gear</td>\n    </tr>\n    <tr>\n      <th>843</th>\n      <td>844</td>\n      <td>2023-08-03 19:28:18 UTC</td>\n      <td>2023-08-04 17:06:51 UTC</td>\n      <td>47</td>\n      <td>56.87073</td>\n      <td>-65</td>\n      <td>43.43449</td>\n      <td>47.0</td>\n      <td>56.91465</td>\n      <td>-65.0</td>\n      <td>43.43743</td>\n      <td>1 - NORMAL - No damage to gear</td>\n    </tr>\n  </tbody>\n</table>\n<p>844 rows × 12 columns</p>\n</div>"
     },
     "execution_count": 53,
     "metadata": {},
     "output_type": "execute_result"
    }
   ],
   "source": [
    "columns_of_interest = [\n",
    "    \"set_number\", \"start_date\", \"end_date\", 'start_latitude_DD',\n",
    "    'start_latitude_MMmm', 'start_longitude_DD', 'start_longitude_MMmm', 'end_latitude_DD',\n",
    "    'end_latitude_MMmm', 'end_longitude_DD', 'end_longitude_MMmm', \"set_result\"\n",
    "]\n",
    "sets[columns_of_interest]\n"
   ],
   "metadata": {
    "collapsed": false,
    "ExecuteTime": {
     "end_time": "2023-12-13T19:33:05.739310400Z",
     "start_time": "2023-12-13T19:33:05.695623Z"
    }
   },
   "id": "eaca593478e4caa0"
  },
  {
   "cell_type": "markdown",
   "source": [
    "### There seems to be a few sets with missing coordinates"
   ],
   "metadata": {
    "collapsed": false
   },
   "id": "d54ff10e822430ca"
  },
  {
   "cell_type": "code",
   "execution_count": 54,
   "outputs": [
    {
     "data": {
      "text/plain": "0    1\n1    2\n3    4\nName: set_number, dtype: int64"
     },
     "execution_count": 54,
     "metadata": {},
     "output_type": "execute_result"
    }
   ],
   "source": [
    "bmask = sets[\"start_latitude_MMmm\"].isnull() | sets[\"start_longitude_MMmm\"].isnull()\n",
    "sets.loc[bmask, \"set_number\"]\n"
   ],
   "metadata": {
    "collapsed": false,
    "ExecuteTime": {
     "end_time": "2023-12-13T19:33:05.756195800Z",
     "start_time": "2023-12-13T19:33:05.730875700Z"
    }
   },
   "id": "c7496a1654496eca"
  },
  {
   "cell_type": "markdown",
   "source": [
    "Sets 1, 2, and 4 are all missing the minutes for the start and end coordinates. \n",
    "\n",
    "We'll have to set them aside for now"
   ],
   "metadata": {
    "collapsed": false
   },
   "id": "51af6c10bd095e14"
  },
  {
   "cell_type": "code",
   "execution_count": 55,
   "outputs": [],
   "source": [
    "sets = sets.dropna(subset=[\"start_latitude_MMmm\"])\n",
    "\n",
    "\n",
    "# define a function for producing decimal degrees\n",
    "def coord_combiner(d, m, longitude=False):\n",
    "    # always dealing with positive number\n",
    "    if d < 0:\n",
    "        d = -d\n",
    "\n",
    "    if m < 0:\n",
    "        m = -m\n",
    "\n",
    "    # perform the calculations and return\n",
    "    my_coord = float(d) + float(m) / 60\n",
    "    if longitude:\n",
    "        return -my_coord\n",
    "    else:\n",
    "        return my_coord\n",
    "\n",
    "\n",
    "# clean up the dataframe\n",
    "## convert DDMM to dec deg\n",
    "sets[\"start_latitude\"] = sets.apply(lambda x: coord_combiner(x[\"start_latitude_DD\"], x[\"start_latitude_MMmm\"], False), axis=1)\n",
    "sets[\"start_longitude\"] = sets.apply(lambda x: coord_combiner(x[\"start_longitude_DD\"], x[\"start_longitude_MMmm\"], False), axis=1)\n",
    "sets[\"end_latitude\"] = sets.apply(lambda x: coord_combiner(x[\"end_latitude_DD\"], x[\"end_latitude_MMmm\"], False), axis=1)\n",
    "sets[\"end_longitude\"] = sets.apply(lambda x: coord_combiner(x[\"end_longitude_DD\"], x[\"end_longitude_MMmm\"], False), axis=1)\n",
    "## datetime string to datetime objects\n",
    "sets[\"start_date\"] = pd.to_datetime(sets[\"start_date\"])\n",
    "sets[\"end_date\"] = pd.to_datetime(sets[\"end_date\"])\n"
   ],
   "metadata": {
    "collapsed": false,
    "ExecuteTime": {
     "end_time": "2023-12-13T19:33:05.876494500Z",
     "start_time": "2023-12-13T19:33:05.756195800Z"
    }
   },
   "id": "57213ee31a953d7d"
  },
  {
   "cell_type": "code",
   "execution_count": 56,
   "outputs": [
    {
     "data": {
      "text/plain": "     set_number                start_date                  end_date   \n2             3 2023-06-20 15:00:54+00:00 2023-06-21 09:51:54+00:00  \\\n4             5 2023-06-20 15:14:13+00:00 2023-06-21 10:11:03+00:00   \n5             6 2023-06-20 15:20:59+00:00 2023-06-21 10:20:12+00:00   \n6             7 2023-06-20 15:27:58+00:00 2023-06-21 10:30:00+00:00   \n7             8 2023-06-20 15:35:09+00:00 2023-06-21 10:38:36+00:00   \n..          ...                       ...                       ...   \n839         840 2023-08-03 18:42:21+00:00 2023-08-04 16:22:02+00:00   \n840         841 2023-08-03 18:59:04+00:00 2023-08-04 16:38:45+00:00   \n841         842 2023-08-03 19:09:51+00:00 2023-08-04 16:46:45+00:00   \n842         843 2023-08-03 19:18:56+00:00 2023-08-04 16:57:09+00:00   \n843         844 2023-08-03 19:28:18+00:00 2023-08-04 17:06:51+00:00   \n\n     start_latitude  start_longitude  end_latitude  end_longitude  \n2         46.823332        64.307562     46.823493      64.306750  \n4         46.780547        64.367678     46.780898      64.367123  \n5         46.758868        64.399047     46.758929      64.398871  \n6         46.780963        64.428189     46.780732      64.427928  \n7         46.800959        64.399178     46.801332      64.398965  \n..              ...              ...           ...            ...  \n839       47.986985        65.849799     47.987216      65.849069  \n840       48.008850        65.822309     48.007776      65.820893  \n841       47.987321        65.787154     47.987620      65.786459  \n842       47.967994        65.753419     47.968229      65.752661  \n843       47.947845        65.723908     47.948577      65.723957  \n\n[841 rows x 7 columns]",
      "text/html": "<div>\n<style scoped>\n    .dataframe tbody tr th:only-of-type {\n        vertical-align: middle;\n    }\n\n    .dataframe tbody tr th {\n        vertical-align: top;\n    }\n\n    .dataframe thead th {\n        text-align: right;\n    }\n</style>\n<table border=\"1\" class=\"dataframe\">\n  <thead>\n    <tr style=\"text-align: right;\">\n      <th></th>\n      <th>set_number</th>\n      <th>start_date</th>\n      <th>end_date</th>\n      <th>start_latitude</th>\n      <th>start_longitude</th>\n      <th>end_latitude</th>\n      <th>end_longitude</th>\n    </tr>\n  </thead>\n  <tbody>\n    <tr>\n      <th>2</th>\n      <td>3</td>\n      <td>2023-06-20 15:00:54+00:00</td>\n      <td>2023-06-21 09:51:54+00:00</td>\n      <td>46.823332</td>\n      <td>64.307562</td>\n      <td>46.823493</td>\n      <td>64.306750</td>\n    </tr>\n    <tr>\n      <th>4</th>\n      <td>5</td>\n      <td>2023-06-20 15:14:13+00:00</td>\n      <td>2023-06-21 10:11:03+00:00</td>\n      <td>46.780547</td>\n      <td>64.367678</td>\n      <td>46.780898</td>\n      <td>64.367123</td>\n    </tr>\n    <tr>\n      <th>5</th>\n      <td>6</td>\n      <td>2023-06-20 15:20:59+00:00</td>\n      <td>2023-06-21 10:20:12+00:00</td>\n      <td>46.758868</td>\n      <td>64.399047</td>\n      <td>46.758929</td>\n      <td>64.398871</td>\n    </tr>\n    <tr>\n      <th>6</th>\n      <td>7</td>\n      <td>2023-06-20 15:27:58+00:00</td>\n      <td>2023-06-21 10:30:00+00:00</td>\n      <td>46.780963</td>\n      <td>64.428189</td>\n      <td>46.780732</td>\n      <td>64.427928</td>\n    </tr>\n    <tr>\n      <th>7</th>\n      <td>8</td>\n      <td>2023-06-20 15:35:09+00:00</td>\n      <td>2023-06-21 10:38:36+00:00</td>\n      <td>46.800959</td>\n      <td>64.399178</td>\n      <td>46.801332</td>\n      <td>64.398965</td>\n    </tr>\n    <tr>\n      <th>...</th>\n      <td>...</td>\n      <td>...</td>\n      <td>...</td>\n      <td>...</td>\n      <td>...</td>\n      <td>...</td>\n      <td>...</td>\n    </tr>\n    <tr>\n      <th>839</th>\n      <td>840</td>\n      <td>2023-08-03 18:42:21+00:00</td>\n      <td>2023-08-04 16:22:02+00:00</td>\n      <td>47.986985</td>\n      <td>65.849799</td>\n      <td>47.987216</td>\n      <td>65.849069</td>\n    </tr>\n    <tr>\n      <th>840</th>\n      <td>841</td>\n      <td>2023-08-03 18:59:04+00:00</td>\n      <td>2023-08-04 16:38:45+00:00</td>\n      <td>48.008850</td>\n      <td>65.822309</td>\n      <td>48.007776</td>\n      <td>65.820893</td>\n    </tr>\n    <tr>\n      <th>841</th>\n      <td>842</td>\n      <td>2023-08-03 19:09:51+00:00</td>\n      <td>2023-08-04 16:46:45+00:00</td>\n      <td>47.987321</td>\n      <td>65.787154</td>\n      <td>47.987620</td>\n      <td>65.786459</td>\n    </tr>\n    <tr>\n      <th>842</th>\n      <td>843</td>\n      <td>2023-08-03 19:18:56+00:00</td>\n      <td>2023-08-04 16:57:09+00:00</td>\n      <td>47.967994</td>\n      <td>65.753419</td>\n      <td>47.968229</td>\n      <td>65.752661</td>\n    </tr>\n    <tr>\n      <th>843</th>\n      <td>844</td>\n      <td>2023-08-03 19:28:18+00:00</td>\n      <td>2023-08-04 17:06:51+00:00</td>\n      <td>47.947845</td>\n      <td>65.723908</td>\n      <td>47.948577</td>\n      <td>65.723957</td>\n    </tr>\n  </tbody>\n</table>\n<p>841 rows × 7 columns</p>\n</div>"
     },
     "execution_count": 56,
     "metadata": {},
     "output_type": "execute_result"
    }
   ],
   "source": [
    "columns_of_interest = [\"set_number\", \"start_date\", \"end_date\", 'start_latitude', 'start_longitude', 'end_latitude', 'end_longitude']\n",
    "sets = sets[columns_of_interest]\n",
    "sets"
   ],
   "metadata": {
    "collapsed": false,
    "ExecuteTime": {
     "end_time": "2023-12-13T19:33:05.885313600Z",
     "start_time": "2023-12-13T19:33:05.824608800Z"
    }
   },
   "id": "a1c4fb1dad9857cd"
  },
  {
   "cell_type": "code",
   "execution_count": 59,
   "outputs": [
    {
     "data": {
      "text/plain": "2      0.034785\n4      0.031117\n5      0.008122\n6      0.017544\n7      0.024072\n         ...   \n839    0.032460\n840    0.086107\n841    0.033260\n842    0.033626\n843    0.044043\nName: distance, Length: 841, dtype: float64"
     },
     "execution_count": 59,
     "metadata": {},
     "output_type": "execute_result"
    }
   ],
   "source": [
    "# it would be interesting to look at the set distances\n",
    "\n",
    "def calc_nautical_dist(p0, p1):\n",
    "    \"\"\"\n",
    "    p0 and p1 should be dicts with key 'lat' and 'lng'\n",
    "    \"\"\"\n",
    "    try:\n",
    "        nautical_miles = 3443.8985 * math.acos(\n",
    "            math.sin(p0[\"lat\"] * math.pi / 180) * math.sin(p1[\"lat\"] * math.pi / 180) +\n",
    "            math.cos(p0[\"lat\"] * math.pi / 180) * math.cos(p1[\"lat\"] * math.pi / 180) *\n",
    "            math.cos(p1[\"lng\"] * math.pi / 180 - p0[\"lng\"] * math.pi / 180)\n",
    "        )\n",
    "        return nautical_miles\n",
    "    except:\n",
    "        pass\n",
    "\n",
    "\n",
    "sets[\"distance\"] = sets.apply(\n",
    "    lambda x: calc_nautical_dist({\"lat\": x[\"start_latitude\"], \"lng\": x[\"start_longitude\"]}, {\"lat\": x[\"end_latitude\"], \"lng\": x[\"end_longitude\"]}), axis=1)\n",
    "\n"
   ],
   "metadata": {
    "collapsed": false,
    "ExecuteTime": {
     "end_time": "2023-12-13T19:33:15.174035600Z",
     "start_time": "2023-12-13T19:33:15.128395900Z"
    }
   },
   "id": "664f43caa82e65b2"
  },
  {
   "cell_type": "code",
   "execution_count": 76,
   "outputs": [
    {
     "data": {
      "text/plain": "Text(0, 0.5, 'Distance (nm)')"
     },
     "execution_count": 76,
     "metadata": {},
     "output_type": "execute_result"
    },
    {
     "data": {
      "text/plain": "<Figure size 1500x500 with 1 Axes>",
      "image/png": "[encoded data removed]"
     },
     "metadata": {},
     "output_type": "display_data"
    }
   ],
   "source": [
    "plt.figure(figsize=(15,5))\n",
    "hist = np.histogram(sets[\"distance\"].dropna())\n",
    "plt.bar(sets[\"set_number\"], sets[\"distance\"], width=1)\n",
    "plt.title(\"Bar plot of the distance between set start vs. end coordinates\")\n",
    "plt.xlabel(\"Set number\")\n",
    "plt.ylabel(\"Distance (nm)\")"
   ],
   "metadata": {
    "collapsed": false,
    "ExecuteTime": {
     "end_time": "2023-12-13T19:51:40.032371200Z",
     "start_time": "2023-12-13T19:51:38.873799200Z"
    }
   },
   "id": "b261116b5a33dae0"
  },
  {
   "cell_type": "markdown",
   "source": [
    "In the above, we can see there are some that have huge distances. "
   ],
   "metadata": {
    "collapsed": false
   },
   "id": "b6a8d74c521ad323"
  },
  {
   "cell_type": "code",
   "execution_count": 77,
   "outputs": [
    {
     "data": {
      "text/plain": "     set_number                start_date                  end_date   \n50           51 2023-06-21 11:31:38+00:00 2023-06-22 11:25:02+00:00  \\\n90           91 2023-06-22 11:52:57+00:00 2023-06-23 12:01:02+00:00   \n132         133 2023-07-04 18:30:27+00:00 2023-07-05 13:31:51+00:00   \n334         335 2023-07-12 15:16:57+00:00 2023-07-13 13:58:33+00:00   \n452         453 2023-07-18 15:01:45+00:00 2023-07-19 15:15:47+00:00   \n639         640 2023-07-26 14:05:34+00:00 2023-07-27 13:57:56+00:00   \n730         731 2023-08-01 10:19:32+00:00 2023-08-02 10:19:18+00:00   \n801         802 2023-08-02 18:29:40+00:00 2023-08-03 18:41:45+00:00   \n\n     start_latitude  start_longitude  end_latitude  end_longitude     distance  \n50        46.884397        64.339347      0.000000       0.000000  4374.868048  \n90         0.000000         0.000000     46.821676      64.427701  4377.051333  \n132       46.637585        63.791706      0.000000       0.000000  4348.658763  \n334       45.873964        62.795817      0.000000       0.000000  4294.081024  \n452        0.000000         0.000000     48.004331      66.067588  4463.060042  \n639       47.525489        64.750857      0.000000       0.000000  4403.438970  \n730       47.885763        65.750714      0.000000       0.000000  4448.706203  \n801        0.000000         0.000000     47.987000      65.849958  4454.423147  ",
      "text/html": "<div>\n<style scoped>\n    .dataframe tbody tr th:only-of-type {\n        vertical-align: middle;\n    }\n\n    .dataframe tbody tr th {\n        vertical-align: top;\n    }\n\n    .dataframe thead th {\n        text-align: right;\n    }\n</style>\n<table border=\"1\" class=\"dataframe\">\n  <thead>\n    <tr style=\"text-align: right;\">\n      <th></th>\n      <th>set_number</th>\n      <th>start_date</th>\n      <th>end_date</th>\n      <th>start_latitude</th>\n      <th>start_longitude</th>\n      <th>end_latitude</th>\n      <th>end_longitude</th>\n      <th>distance</th>\n    </tr>\n  </thead>\n  <tbody>\n    <tr>\n      <th>50</th>\n      <td>51</td>\n      <td>2023-06-21 11:31:38+00:00</td>\n      <td>2023-06-22 11:25:02+00:00</td>\n      <td>46.884397</td>\n      <td>64.339347</td>\n      <td>0.000000</td>\n      <td>0.000000</td>\n      <td>4374.868048</td>\n    </tr>\n    <tr>\n      <th>90</th>\n      <td>91</td>\n      <td>2023-06-22 11:52:57+00:00</td>\n      <td>2023-06-23 12:01:02+00:00</td>\n      <td>0.000000</td>\n      <td>0.000000</td>\n      <td>46.821676</td>\n      <td>64.427701</td>\n      <td>4377.051333</td>\n    </tr>\n    <tr>\n      <th>132</th>\n      <td>133</td>\n      <td>2023-07-04 18:30:27+00:00</td>\n      <td>2023-07-05 13:31:51+00:00</td>\n      <td>46.637585</td>\n      <td>63.791706</td>\n      <td>0.000000</td>\n      <td>0.000000</td>\n      <td>4348.658763</td>\n    </tr>\n    <tr>\n      <th>334</th>\n      <td>335</td>\n      <td>2023-07-12 15:16:57+00:00</td>\n      <td>2023-07-13 13:58:33+00:00</td>\n      <td>45.873964</td>\n      <td>62.795817</td>\n      <td>0.000000</td>\n      <td>0.000000</td>\n      <td>4294.081024</td>\n    </tr>\n    <tr>\n      <th>452</th>\n      <td>453</td>\n      <td>2023-07-18 15:01:45+00:00</td>\n      <td>2023-07-19 15:15:47+00:00</td>\n      <td>0.000000</td>\n      <td>0.000000</td>\n      <td>48.004331</td>\n      <td>66.067588</td>\n      <td>4463.060042</td>\n    </tr>\n    <tr>\n      <th>639</th>\n      <td>640</td>\n      <td>2023-07-26 14:05:34+00:00</td>\n      <td>2023-07-27 13:57:56+00:00</td>\n      <td>47.525489</td>\n      <td>64.750857</td>\n      <td>0.000000</td>\n      <td>0.000000</td>\n      <td>4403.438970</td>\n    </tr>\n    <tr>\n      <th>730</th>\n      <td>731</td>\n      <td>2023-08-01 10:19:32+00:00</td>\n      <td>2023-08-02 10:19:18+00:00</td>\n      <td>47.885763</td>\n      <td>65.750714</td>\n      <td>0.000000</td>\n      <td>0.000000</td>\n      <td>4448.706203</td>\n    </tr>\n    <tr>\n      <th>801</th>\n      <td>802</td>\n      <td>2023-08-02 18:29:40+00:00</td>\n      <td>2023-08-03 18:41:45+00:00</td>\n      <td>0.000000</td>\n      <td>0.000000</td>\n      <td>47.987000</td>\n      <td>65.849958</td>\n      <td>4454.423147</td>\n    </tr>\n  </tbody>\n</table>\n</div>"
     },
     "execution_count": 77,
     "metadata": {},
     "output_type": "execute_result"
    }
   ],
   "source": [
    "# let's get a list of sets whose distances are greater than 10\n",
    "\n",
    "mask = sets[\"distance\"] > 10\n",
    "sets[mask]\n",
    "\n",
    "\n"
   ],
   "metadata": {
    "collapsed": false,
    "ExecuteTime": {
     "end_time": "2023-12-13T19:53:15.340668300Z",
     "start_time": "2023-12-13T19:53:15.304906700Z"
    }
   },
   "id": "37447f96c37869a0"
  },
  {
   "cell_type": "markdown",
   "source": [
    "## Here are the 8 sketchy sets:\n",
    "\n",
    "#### 51, 91, 133, 335, 453, 640, 731, 802,\n"
   ],
   "metadata": {
    "collapsed": false
   },
   "id": "85ad738186653a13"
  },
  {
   "cell_type": "code",
   "execution_count": 78,
   "outputs": [
    {
     "data": {
      "text/plain": "      set_number   type                  datetime        lat        lng\n0              3  start 2023-06-20 15:00:54+00:00  46.823332  64.307562\n1              3    end 2023-06-21 09:51:54+00:00  46.823493  64.306750\n2              5  start 2023-06-20 15:14:13+00:00  46.780547  64.367678\n3              5    end 2023-06-21 10:11:03+00:00  46.780898  64.367123\n4              6  start 2023-06-20 15:20:59+00:00  46.758868  64.399047\n...          ...    ...                       ...        ...        ...\n1677         842    end 2023-08-04 16:46:45+00:00  47.987620  65.786459\n1678         843  start 2023-08-03 19:18:56+00:00  47.967994  65.753419\n1679         843    end 2023-08-04 16:57:09+00:00  47.968229  65.752661\n1680         844  start 2023-08-03 19:28:18+00:00  47.947845  65.723908\n1681         844    end 2023-08-04 17:06:51+00:00  47.948577  65.723957\n\n[1682 rows x 5 columns]",
      "text/html": "<div>\n<style scoped>\n    .dataframe tbody tr th:only-of-type {\n        vertical-align: middle;\n    }\n\n    .dataframe tbody tr th {\n        vertical-align: top;\n    }\n\n    .dataframe thead th {\n        text-align: right;\n    }\n</style>\n<table border=\"1\" class=\"dataframe\">\n  <thead>\n    <tr style=\"text-align: right;\">\n      <th></th>\n      <th>set_number</th>\n      <th>type</th>\n      <th>datetime</th>\n      <th>lat</th>\n      <th>lng</th>\n    </tr>\n  </thead>\n  <tbody>\n    <tr>\n      <th>0</th>\n      <td>3</td>\n      <td>start</td>\n      <td>2023-06-20 15:00:54+00:00</td>\n      <td>46.823332</td>\n      <td>64.307562</td>\n    </tr>\n    <tr>\n      <th>1</th>\n      <td>3</td>\n      <td>end</td>\n      <td>2023-06-21 09:51:54+00:00</td>\n      <td>46.823493</td>\n      <td>64.306750</td>\n    </tr>\n    <tr>\n      <th>2</th>\n      <td>5</td>\n      <td>start</td>\n      <td>2023-06-20 15:14:13+00:00</td>\n      <td>46.780547</td>\n      <td>64.367678</td>\n    </tr>\n    <tr>\n      <th>3</th>\n      <td>5</td>\n      <td>end</td>\n      <td>2023-06-21 10:11:03+00:00</td>\n      <td>46.780898</td>\n      <td>64.367123</td>\n    </tr>\n    <tr>\n      <th>4</th>\n      <td>6</td>\n      <td>start</td>\n      <td>2023-06-20 15:20:59+00:00</td>\n      <td>46.758868</td>\n      <td>64.399047</td>\n    </tr>\n    <tr>\n      <th>...</th>\n      <td>...</td>\n      <td>...</td>\n      <td>...</td>\n      <td>...</td>\n      <td>...</td>\n    </tr>\n    <tr>\n      <th>1677</th>\n      <td>842</td>\n      <td>end</td>\n      <td>2023-08-04 16:46:45+00:00</td>\n      <td>47.987620</td>\n      <td>65.786459</td>\n    </tr>\n    <tr>\n      <th>1678</th>\n      <td>843</td>\n      <td>start</td>\n      <td>2023-08-03 19:18:56+00:00</td>\n      <td>47.967994</td>\n      <td>65.753419</td>\n    </tr>\n    <tr>\n      <th>1679</th>\n      <td>843</td>\n      <td>end</td>\n      <td>2023-08-04 16:57:09+00:00</td>\n      <td>47.968229</td>\n      <td>65.752661</td>\n    </tr>\n    <tr>\n      <th>1680</th>\n      <td>844</td>\n      <td>start</td>\n      <td>2023-08-03 19:28:18+00:00</td>\n      <td>47.947845</td>\n      <td>65.723908</td>\n    </tr>\n    <tr>\n      <th>1681</th>\n      <td>844</td>\n      <td>end</td>\n      <td>2023-08-04 17:06:51+00:00</td>\n      <td>47.948577</td>\n      <td>65.723957</td>\n    </tr>\n  </tbody>\n</table>\n<p>1682 rows × 5 columns</p>\n</div>"
     },
     "execution_count": 78,
     "metadata": {},
     "output_type": "execute_result"
    }
   ],
   "source": [
    "# now we need to reshape the dataframe.. each row should be a start or stop datetime/coordinate\n",
    "df_dict = {\n",
    "    \"set_number\": [],\n",
    "    \"type\": [],\n",
    "    \"datetime\": [],\n",
    "    \"lat\": [],\n",
    "    \"lng\": [],\n",
    "}\n",
    "\n",
    "for index, row in sets.iterrows():\n",
    "    # two entries for each row\n",
    "    df_dict[\"set_number\"].append(row[\"set_number\"])\n",
    "    df_dict[\"type\"].append(\"start\")\n",
    "    df_dict[\"datetime\"].append(row[\"start_date\"])\n",
    "    df_dict[\"lat\"].append(row[\"start_latitude\"])\n",
    "    df_dict[\"lng\"].append(row[\"start_longitude\"])\n",
    "    df_dict[\"set_number\"].append(row[\"set_number\"])\n",
    "    df_dict[\"type\"].append(\"end\")\n",
    "    df_dict[\"datetime\"].append(row[\"end_date\"])\n",
    "    df_dict[\"lat\"].append(row[\"end_latitude\"])\n",
    "    df_dict[\"lng\"].append(row[\"end_longitude\"])\n",
    "\n",
    "locs = pd.DataFrame(df_dict)\n",
    "locs"
   ],
   "metadata": {
    "collapsed": false,
    "ExecuteTime": {
     "end_time": "2023-12-13T19:54:46.226824100Z",
     "start_time": "2023-12-13T19:54:46.155904Z"
    }
   },
   "id": "145b91bf1b2636fe"
  },
  {
   "cell_type": "code",
   "execution_count": 80,
   "outputs": [
    {
     "data": {
      "text/plain": "<seaborn.axisgrid.FacetGrid at 0x2401fe0fc40>"
     },
     "execution_count": 80,
     "metadata": {},
     "output_type": "execute_result"
    },
    {
     "data": {
      "text/plain": "<Figure size 500x500 with 1 Axes>",
      "image/png": "[encoded data removed]"
     },
     "metadata": {},
     "output_type": "display_data"
    }
   ],
   "source": [
    "sns.lmplot(data=locs, x=\"lng\", y=\"lat\", fit_reg=False)"
   ],
   "metadata": {
    "collapsed": false,
    "ExecuteTime": {
     "end_time": "2023-12-13T19:55:58.460465100Z",
     "start_time": "2023-12-13T19:55:58.205863Z"
    }
   },
   "id": "71e75830b9c40cc5"
  }
 ],
 "metadata": {
  "kernelspec": {
   "display_name": "Python 3",
   "language": "python",
   "name": "python3"
  },
  "language_info": {
   "codemirror_mode": {
    "name": "ipython",
    "version": 2
   },
   "file_extension": ".py",
   "mimetype": "text/x-python",
   "name": "python",
   "nbconvert_exporter": "python",
   "pygments_lexer": "ipython2",
   "version": "2.7.6"
  }
 },
 "nbformat": 4,
 "nbformat_minor": 5
}
