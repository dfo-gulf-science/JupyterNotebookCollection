{
 "cells": [
  {
   "cell_type": "code",
   "execution_count": 6,
   "id": "initial_id",
   "metadata": {
    "collapsed": true,
    "ExecuteTime": {
     "end_time": "2023-12-11T16:54:25.643112700Z",
     "start_time": "2023-12-11T16:54:25.511115200Z"
    }
   },
   "outputs": [],
   "source": [
    "import pandas as pd\n",
    "\n",
    "df = pd.read_csv(\"camp_species_observations.csv\")"
   ]
  },
  {
   "cell_type": "code",
   "execution_count": 7,
   "outputs": [
    {
     "data": {
      "text/plain": "       sample_id  year  month  day           site        station   latitude   \n61330       2542  2008      6    1  Caraquet (NB)  Rue Blanchard  47.817719  \\\n62740       2370  2008      5    1  Caraquet (NB)  Rue Blanchard  47.817719   \n80313        267  2004      8    1  Caraquet (NB)  Rue Blanchard  47.817719   \n72899       1139  2006      6    1  Caraquet (NB)  Rue Blanchard  47.817719   \n72900       1139  2006      6    1  Caraquet (NB)  Rue Blanchard  47.817719   \n...          ...   ...    ...  ...            ...            ...        ...   \n10433       8748  2016      7    1    Pictou (NS)    Power Plant  45.625960   \n13740       8349  2015      8    1    Pictou (NS)    Power Plant  45.625960   \n82333         51  2004      5    1    Pictou (NS)    Power Plant  45.625960   \n82332         51  2004      5    1    Pictou (NS)    Power Plant  45.625960   \n67298       1821  2007      6    1    Pictou (NS)    Power Plant  45.625960   \n\n       longitude species_code    sav  sav_level  adults  yoy  total_ind   \n61330  -64.99786         FUCU   True       0.50     NaN  NaN        NaN  \\\n62740  -64.99786          BSS  False        NaN     2.0  0.0        2.0   \n80313  -64.99786          MUM  False        NaN   347.0  3.0      350.0   \n72899  -64.99786          4SS  False        NaN     1.0  0.0        1.0   \n72900  -64.99786          MUM  False        NaN   781.0  0.0      781.0   \n...          ...          ...    ...        ...     ...  ...        ...   \n10433  -62.64932          GCR  False        NaN    23.0  0.0       23.0   \n13740  -62.64932         GRAL   True       0.33     NaN  NaN        NaN   \n82333  -62.64932         FUCU   True       0.50     NaN  NaN        NaN   \n82332  -62.64932         GRAL   True       2.75     NaN  NaN        NaN   \n67298  -62.64932          GCR  False        NaN     1.0  0.0        1.0   \n\n       total_all  \n61330       0.50  \n62740       2.00  \n80313     350.00  \n72899       1.00  \n72900     781.00  \n...          ...  \n10433      23.00  \n13740       0.33  \n82333       0.50  \n82332       2.75  \n67298       1.00  \n\n[82752 rows x 15 columns]",
      "text/html": "<div>\n<style scoped>\n    .dataframe tbody tr th:only-of-type {\n        vertical-align: middle;\n    }\n\n    .dataframe tbody tr th {\n        vertical-align: top;\n    }\n\n    .dataframe thead th {\n        text-align: right;\n    }\n</style>\n<table border=\"1\" class=\"dataframe\">\n  <thead>\n    <tr style=\"text-align: right;\">\n      <th></th>\n      <th>sample_id</th>\n      <th>year</th>\n      <th>month</th>\n      <th>day</th>\n      <th>site</th>\n      <th>station</th>\n      <th>latitude</th>\n      <th>longitude</th>\n      <th>species_code</th>\n      <th>sav</th>\n      <th>sav_level</th>\n      <th>adults</th>\n      <th>yoy</th>\n      <th>total_ind</th>\n      <th>total_all</th>\n    </tr>\n  </thead>\n  <tbody>\n    <tr>\n      <th>61330</th>\n      <td>2542</td>\n      <td>2008</td>\n      <td>6</td>\n      <td>1</td>\n      <td>Caraquet (NB)</td>\n      <td>Rue Blanchard</td>\n      <td>47.817719</td>\n      <td>-64.99786</td>\n      <td>FUCU</td>\n      <td>True</td>\n      <td>0.50</td>\n      <td>NaN</td>\n      <td>NaN</td>\n      <td>NaN</td>\n      <td>0.50</td>\n    </tr>\n    <tr>\n      <th>62740</th>\n      <td>2370</td>\n      <td>2008</td>\n      <td>5</td>\n      <td>1</td>\n      <td>Caraquet (NB)</td>\n      <td>Rue Blanchard</td>\n      <td>47.817719</td>\n      <td>-64.99786</td>\n      <td>BSS</td>\n      <td>False</td>\n      <td>NaN</td>\n      <td>2.0</td>\n      <td>0.0</td>\n      <td>2.0</td>\n      <td>2.00</td>\n    </tr>\n    <tr>\n      <th>80313</th>\n      <td>267</td>\n      <td>2004</td>\n      <td>8</td>\n      <td>1</td>\n      <td>Caraquet (NB)</td>\n      <td>Rue Blanchard</td>\n      <td>47.817719</td>\n      <td>-64.99786</td>\n      <td>MUM</td>\n      <td>False</td>\n      <td>NaN</td>\n      <td>347.0</td>\n      <td>3.0</td>\n      <td>350.0</td>\n      <td>350.00</td>\n    </tr>\n    <tr>\n      <th>72899</th>\n      <td>1139</td>\n      <td>2006</td>\n      <td>6</td>\n      <td>1</td>\n      <td>Caraquet (NB)</td>\n      <td>Rue Blanchard</td>\n      <td>47.817719</td>\n      <td>-64.99786</td>\n      <td>4SS</td>\n      <td>False</td>\n      <td>NaN</td>\n      <td>1.0</td>\n      <td>0.0</td>\n      <td>1.0</td>\n      <td>1.00</td>\n    </tr>\n    <tr>\n      <th>72900</th>\n      <td>1139</td>\n      <td>2006</td>\n      <td>6</td>\n      <td>1</td>\n      <td>Caraquet (NB)</td>\n      <td>Rue Blanchard</td>\n      <td>47.817719</td>\n      <td>-64.99786</td>\n      <td>MUM</td>\n      <td>False</td>\n      <td>NaN</td>\n      <td>781.0</td>\n      <td>0.0</td>\n      <td>781.0</td>\n      <td>781.00</td>\n    </tr>\n    <tr>\n      <th>...</th>\n      <td>...</td>\n      <td>...</td>\n      <td>...</td>\n      <td>...</td>\n      <td>...</td>\n      <td>...</td>\n      <td>...</td>\n      <td>...</td>\n      <td>...</td>\n      <td>...</td>\n      <td>...</td>\n      <td>...</td>\n      <td>...</td>\n      <td>...</td>\n      <td>...</td>\n    </tr>\n    <tr>\n      <th>10433</th>\n      <td>8748</td>\n      <td>2016</td>\n      <td>7</td>\n      <td>1</td>\n      <td>Pictou (NS)</td>\n      <td>Power Plant</td>\n      <td>45.625960</td>\n      <td>-62.64932</td>\n      <td>GCR</td>\n      <td>False</td>\n      <td>NaN</td>\n      <td>23.0</td>\n      <td>0.0</td>\n      <td>23.0</td>\n      <td>23.00</td>\n    </tr>\n    <tr>\n      <th>13740</th>\n      <td>8349</td>\n      <td>2015</td>\n      <td>8</td>\n      <td>1</td>\n      <td>Pictou (NS)</td>\n      <td>Power Plant</td>\n      <td>45.625960</td>\n      <td>-62.64932</td>\n      <td>GRAL</td>\n      <td>True</td>\n      <td>0.33</td>\n      <td>NaN</td>\n      <td>NaN</td>\n      <td>NaN</td>\n      <td>0.33</td>\n    </tr>\n    <tr>\n      <th>82333</th>\n      <td>51</td>\n      <td>2004</td>\n      <td>5</td>\n      <td>1</td>\n      <td>Pictou (NS)</td>\n      <td>Power Plant</td>\n      <td>45.625960</td>\n      <td>-62.64932</td>\n      <td>FUCU</td>\n      <td>True</td>\n      <td>0.50</td>\n      <td>NaN</td>\n      <td>NaN</td>\n      <td>NaN</td>\n      <td>0.50</td>\n    </tr>\n    <tr>\n      <th>82332</th>\n      <td>51</td>\n      <td>2004</td>\n      <td>5</td>\n      <td>1</td>\n      <td>Pictou (NS)</td>\n      <td>Power Plant</td>\n      <td>45.625960</td>\n      <td>-62.64932</td>\n      <td>GRAL</td>\n      <td>True</td>\n      <td>2.75</td>\n      <td>NaN</td>\n      <td>NaN</td>\n      <td>NaN</td>\n      <td>2.75</td>\n    </tr>\n    <tr>\n      <th>67298</th>\n      <td>1821</td>\n      <td>2007</td>\n      <td>6</td>\n      <td>1</td>\n      <td>Pictou (NS)</td>\n      <td>Power Plant</td>\n      <td>45.625960</td>\n      <td>-62.64932</td>\n      <td>GCR</td>\n      <td>False</td>\n      <td>NaN</td>\n      <td>1.0</td>\n      <td>0.0</td>\n      <td>1.0</td>\n      <td>1.00</td>\n    </tr>\n  </tbody>\n</table>\n<p>82752 rows × 15 columns</p>\n</div>"
     },
     "execution_count": 7,
     "metadata": {},
     "output_type": "execute_result"
    }
   ],
   "source": [
    "df\n"
   ],
   "metadata": {
    "collapsed": false,
    "ExecuteTime": {
     "end_time": "2023-12-11T16:54:26.446112200Z",
     "start_time": "2023-12-11T16:54:26.411116200Z"
    }
   },
   "id": "eaca593478e4caa0"
  }
 ],
 "metadata": {
  "kernelspec": {
   "display_name": "Python 3",
   "language": "python",
   "name": "python3"
  },
  "language_info": {
   "codemirror_mode": {
    "name": "ipython",
    "version": 2
   },
   "file_extension": ".py",
   "mimetype": "text/x-python",
   "name": "python",
   "nbconvert_exporter": "python",
   "pygments_lexer": "ipython2",
   "version": "2.7.6"
  }
 },
 "nbformat": 4,
 "nbformat_minor": 5
}
