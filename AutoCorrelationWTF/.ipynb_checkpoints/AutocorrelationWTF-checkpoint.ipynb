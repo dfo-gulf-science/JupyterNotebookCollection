{
 "cells": [
  {
   "cell_type": "markdown",
   "id": "184323c3-0e38-4dc8-bc51-983c581c56c6",
   "metadata": {},
   "source": [
    "# A sketchpad for trying to better understand autocorrelation plots"
   ]
  },
  {
   "cell_type": "code",
   "execution_count": null,
   "id": "initial_id",
   "metadata": {
    "ExecuteTime": {
     "end_time": "2023-11-23T16:56:32.649705100Z",
     "start_time": "2023-11-23T16:56:28.704394600Z"
    }
   },
   "outputs": [],
   "source": [
    "\n",
    "import math\n",
    "\n",
    "import numpy as np\n",
    "import pandas as pd\n",
    "from pandas.plotting import lag_plot\n",
    "from matplotlib import pyplot as plt\n",
    "from datetime import datetime as dt\n",
    "from pandas.plotting import autocorrelation_plot\n"
   ]
  },
  {
   "cell_type": "markdown",
   "id": "a57ba9d6-2c7c-4d2a-b921-1fad970edf50",
   "metadata": {},
   "source": [
    "### Autocorrelation of random data"
   ]
  },
  {
   "cell_type": "code",
   "execution_count": null,
   "id": "92a83934-1165-41e5-8833-390a33002eec",
   "metadata": {},
   "outputs": [],
   "source": [
    "\n",
    "#  date range from now to 100 months\n",
    "index = pd.date_range(dt.now(), periods=100, freq=\"M\")\n",
    "# data from 1 to 1000 in 100 steps\n",
    "data = np.random.randn(100)\n",
    "# time series obj\n",
    "ser = pd.Series(data=data, index=index)\n",
    "\n",
    "# plot\n",
    "plt.figure(figsize=(16,5))\n",
    "plt.subplot(1,3,1)\n",
    "ser.plot()\n",
    "plt.subplot(1,3,2)\n",
    "autocorrelation_plot(ser)\n",
    "plt.subplot(1,3,3)\n",
    "lag_plot(ser, lag=10)"
   ]
  },
  {
   "cell_type": "markdown",
   "id": "8e8e8c7b-5af9-4337-a175-579dcebc013d",
   "metadata": {},
   "source": [
    "as expected, no autocorrelation detected.\n",
    "\n",
    "### Autocorrelation of a straight-line data"
   ]
  },
  {
   "cell_type": "code",
   "execution_count": null,
   "id": "4564d7df5c83e3e4",
   "metadata": {
    "ExecuteTime": {
     "end_time": "2023-11-23T16:56:33.261444600Z",
     "start_time": "2023-11-23T16:56:32.634040900Z"
    },
    "collapsed": false,
    "jupyter": {
     "outputs_hidden": false
    }
   },
   "outputs": [],
   "source": [
    "\n",
    "#  date range from now to 100 months\n",
    "index = pd.date_range(dt.now(), periods=100, freq=\"M\")\n",
    "# data from 1 to 1000 in 100 steps\n",
    "data = np.linspace(1,1000, num=100)\n",
    "# time series obj\n",
    "ser = pd.Series(data=data, index=index)\n",
    "\n",
    "# plot\n",
    "plt.figure(figsize=(16,5))\n",
    "plt.subplot(1,3,1)\n",
    "ser.plot()\n",
    "plt.subplot(1,3,2)\n",
    "autocorrelation_plot(ser)\n",
    "plt.subplot(1,3,3)\n",
    "lag_plot(ser, lag=70)\n"
   ]
  },
  {
   "cell_type": "markdown",
   "id": "34e8d339-df04-4f1c-9203-ebcfada73d31",
   "metadata": {},
   "source": [
    "This is an unexpected result...\n",
    "\n",
    "Why is there negative autocorrelation between y vs. y(t+70)?\n",
    "\n",
    "### Autocorrelation of a periodic data\n"
   ]
  },
  {
   "cell_type": "code",
   "execution_count": null,
   "id": "8c9d76f45e2c8310",
   "metadata": {
    "ExecuteTime": {
     "end_time": "2023-11-23T16:56:33.731644900Z",
     "start_time": "2023-11-23T16:56:33.261444600Z"
    },
    "collapsed": false,
    "jupyter": {
     "outputs_hidden": false
    }
   },
   "outputs": [],
   "source": [
    "x = np.arange(1, 100, 0.1)\n",
    "ser = pd.Series(x).apply(lambda x:math.sin(x))\n",
    "plt.figure(figsize=(16,5))\n",
    "plt.subplot(1,3,1)\n",
    "ser.plot()\n",
    "plt.subplot(1,3,2)\n",
    "autocorrelation_plot(ser)\n",
    "plt.subplot(1,3,3)\n",
    "lag_plot(ser, lag=10)\n"
   ]
  },
  {
   "cell_type": "markdown",
   "id": "3cd9c040-d043-4fc4-97ac-ccc77e4dc34b",
   "metadata": {},
   "source": [
    "- the lag plots are fascinating.. \n",
    "- why the decreasing autocorrelation along x axis?\n",
    "\n"
   ]
  },
  {
   "cell_type": "code",
   "execution_count": null,
   "id": "e67e913039e7d451",
   "metadata": {
    "ExecuteTime": {
     "end_time": "2023-11-23T16:56:34.152930400Z",
     "start_time": "2023-11-23T16:56:33.731644900Z"
    },
    "collapsed": false,
    "jupyter": {
     "outputs_hidden": false
    }
   },
   "outputs": [],
   "source": [
    "x = np.random.randn(100)*20\n",
    "ser = pd.Series(np.linspace(1,1000, 100)+x)\n",
    "plt.figure(figsize=(16,5))\n",
    "plt.subplot(1,3,1)\n",
    "ser.plot()\n",
    "plt.subplot(1,3,2)\n",
    "autocorrelation_plot(ser)\n",
    "plt.subplot(1,3,3)\n",
    "lag_plot(ser, lag=10)"
   ]
  },
  {
   "cell_type": "code",
   "execution_count": null,
   "id": "eafb3b41cd608709",
   "metadata": {
    "ExecuteTime": {
     "end_time": "2023-11-23T16:56:34.617778100Z",
     "start_time": "2023-11-23T16:56:34.152930400Z"
    },
    "collapsed": false,
    "jupyter": {
     "outputs_hidden": false
    }
   },
   "outputs": [],
   "source": [
    "x1 = np.random.randn(100)\n",
    "x2 = np.random.randn(100)*20\n",
    "x = np.concatenate([x1+100,x2])\n",
    "ser = pd.Series(x)\n",
    "plt.figure(figsize=(16,5))\n",
    "plt.subplot(1,3,1)\n",
    "ser.plot()\n",
    "plt.subplot(1,3,2)\n",
    "autocorrelation_plot(ser)\n",
    "plt.subplot(1,3,3)\n",
    "lag_plot(ser, lag=10)"
   ]
  },
  {
   "cell_type": "code",
   "execution_count": null,
   "id": "2ec7761fc23ef7ed",
   "metadata": {
    "ExecuteTime": {
     "end_time": "2023-11-23T16:56:35.062314300Z",
     "start_time": "2023-11-23T16:56:34.617778100Z"
    },
    "collapsed": false,
    "jupyter": {
     "outputs_hidden": false
    }
   },
   "outputs": [],
   "source": [
    "x1 = np.random.randn(100)\n",
    "x2 = np.random.randn(100)*20\n",
    "x = np.concatenate([x1,x2])\n",
    "ser = pd.Series(x)\n",
    "plt.figure(figsize=(16,5))\n",
    "plt.subplot(1,3,1)\n",
    "ser.plot()\n",
    "plt.subplot(1,3,2)\n",
    "autocorrelation_plot(ser)\n",
    "plt.subplot(1,3,3)\n",
    "lag_plot(ser, lag=10)"
   ]
  }
 ],
 "metadata": {
  "kernelspec": {
   "display_name": "Python 3 (ipykernel)",
   "language": "python",
   "name": "python3"
  },
  "language_info": {
   "codemirror_mode": {
    "name": "ipython",
    "version": 3
   },
   "file_extension": ".py",
   "mimetype": "text/x-python",
   "name": "python",
   "nbconvert_exporter": "python",
   "pygments_lexer": "ipython3",
   "version": "3.10.12"
  }
 },
 "nbformat": 4,
 "nbformat_minor": 5
}
